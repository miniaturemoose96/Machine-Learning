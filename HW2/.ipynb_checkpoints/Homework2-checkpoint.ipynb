{
 "cells": [
  {
   "cell_type": "markdown",
   "metadata": {},
   "source": [
    "# CS4662: Machine Learning\n",
    "### Homework 2: Adjustingthe hyperparameters of MNIST Digit Recognition using ANN model in Keras + TensorFlowand Grid-Search in SciKitLearn\n",
    "### By: Alejandro Bernal"
   ]
  },
  {
   "cell_type": "code",
   "execution_count": 1,
   "metadata": {},
   "outputs": [],
   "source": [
    "# For auto completion\n",
    "%config IPCompleter.greedy=True"
   ]
  },
  {
   "cell_type": "code",
   "execution_count": 2,
   "metadata": {},
   "outputs": [
    {
     "name": "stderr",
     "output_type": "stream",
     "text": [
      "Using TensorFlow backend.\n"
     ]
    }
   ],
   "source": [
    "# Import all packages we are required\n",
    "from keras.wrappers.scikit_learn import KerasClassifier\n",
    "from sklearn.model_selection import GridSearchCV\n",
    "from keras.datasets import mnist\n",
    "from keras.utils import np_utils\n",
    "from keras.layers import Dense, Dropout, Activation, Flatten\n",
    "from keras.models import Sequential\n",
    "import numpy as np"
   ]
  },
  {
   "cell_type": "code",
   "execution_count": 3,
   "metadata": {},
   "outputs": [],
   "source": [
    "# B) Import MINST dataset and split it into testing and training sets as we saw\n",
    "# in the tutorial. Then, reshape each sample into a row vector and scale it by 255.\n",
    "(X_train, y_train), (X_test, y_test) = mnist.load_data()\n",
    "# Reshape to a row vector\n",
    "X_train = X_train.reshape(X_train.shape[0], 784)\n",
    "X_test = X_test.reshape(X_test.shape[0], 784)\n",
    "\n",
    "# Scale \n",
    "X_train = X_train.astype('float32')\n",
    "X_test = X_test.astype('float32')\n",
    "X_train /= 255\n",
    "X_test /= 255"
   ]
  },
  {
   "cell_type": "code",
   "execution_count": 4,
   "metadata": {},
   "outputs": [],
   "source": [
    "# C) Perform One hot Encoding for Label y.\n",
    "# So, your label will be a vector of 10 elements for each data Sample\n",
    "y_train = np_utils.to_categorical(y_train, 10)\n",
    "y_test = np_utils.to_categorical(y_test, 10)"
   ]
  },
  {
   "cell_type": "code",
   "execution_count": 5,
   "metadata": {},
   "outputs": [],
   "source": [
    "# d) Now Define function called 'model_creator'\n",
    "# This fucntion will define, create and compile your neural network\n",
    "# model according to your structure and then return the built model as \n",
    "# the output. For the ANN neurons/layers, use the same structure as we had\n",
    "# in the tutorial\n",
    "input_size = 784\n",
    "hidden_neurons = 100\n",
    "out_size = 10\n",
    "\n",
    "def model_creator():\n",
    "    model = Sequential()\n",
    "    # First Layer input: Does no processing, no need to define input layer\n",
    "    # Second layer: Hidden Layer\n",
    "    model.add(Dense(hidden_neurons, input_dim = input_size))# Neurons\n",
    "    model.add(Activation('sigmoid')) # activation\n",
    "    # Third Layer: output Layer\n",
    "    model.add(Dense(out_size, input_dim = hidden_neurons)) # Neurons\n",
    "    model.add(Activation('softmax')) # activation\n",
    "    # compile\n",
    "    model.compile(loss='categorical_crossentropy', optimizer='adam', metrics=['accuracy'])\n",
    "    \n",
    "    return model"
   ]
  },
  {
   "cell_type": "code",
   "execution_count": 8,
   "metadata": {},
   "outputs": [],
   "source": [
    "# e) Fix the random state for reproducibility\n",
    "seed = 2\n",
    "np.random.seed(seed)"
   ]
  },
  {
   "cell_type": "code",
   "execution_count": null,
   "metadata": {},
   "outputs": [],
   "source": []
  },
  {
   "cell_type": "code",
   "execution_count": null,
   "metadata": {},
   "outputs": [],
   "source": []
  }
 ],
 "metadata": {
  "kernelspec": {
   "display_name": "Python 3",
   "language": "python",
   "name": "python3"
  },
  "language_info": {
   "codemirror_mode": {
    "name": "ipython",
    "version": 3
   },
   "file_extension": ".py",
   "mimetype": "text/x-python",
   "name": "python",
   "nbconvert_exporter": "python",
   "pygments_lexer": "ipython3",
   "version": "3.7.6"
  }
 },
 "nbformat": 4,
 "nbformat_minor": 4
}
