{
 "cells": [
  {
   "cell_type": "markdown",
   "metadata": {},
   "source": [
    "# Advanced Topics in Data Science/Machine Learning. Cal State Univ. LA, CS Dept.\n",
    "### Dr. Mohammad Porhoumayoun\n",
    "----------------------------------------------------------------------------------------------\n",
    "----------------------------------------------------------------------------------------------"
   ]
  },
  {
   "cell_type": "markdown",
   "metadata": {},
   "source": [
    "## Artificial Neural Networks with Keras + TensorFlow\n",
    "----------------------------------------------------------------------------------------------\n",
    "----------------------------------------------------------------------------------------------"
   ]
  },
  {
   "cell_type": "code",
   "execution_count": 1,
   "metadata": {},
   "outputs": [
    {
     "name": "stderr",
     "output_type": "stream",
     "text": [
      "Using TensorFlow backend.\n"
     ]
    }
   ],
   "source": [
    "# \"Sequential\" models let us define a stack of neural network layers\n",
    "from keras.models import Sequential\n",
    "\n",
    "# import the core layers:\n",
    "from keras.layers import Dense, Dropout, Activation, Flatten\n",
    "\n",
    "import numpy as np"
   ]
  },
  {
   "cell_type": "code",
   "execution_count": 2,
   "metadata": {},
   "outputs": [],
   "source": [
    "# import some utilities to transform/preprocess our data:\n",
    "\n",
    "from keras.utils import np_utils"
   ]
  },
  {
   "cell_type": "markdown",
   "metadata": {},
   "source": [
    "#### Let's start with a well-known hand-written digit dataset named MNIST. It is a simple but big enough dataset (70,000 samples) (wikipedia.org/wiki/MNIST_database). "
   ]
  },
  {
   "cell_type": "code",
   "execution_count": 3,
   "metadata": {},
   "outputs": [],
   "source": [
    "# Keras will download MNIST digit dataset for us:\n",
    "from keras.datasets import mnist\n",
    " \n",
    "# By default, the first 60k of MNIST has been defined as training and the rest as testing set: \n",
    "(X_train, y_train), (X_test, y_test) = mnist.load_data()"
   ]
  },
  {
   "cell_type": "code",
   "execution_count": 4,
   "metadata": {},
   "outputs": [
    {
     "name": "stdout",
     "output_type": "stream",
     "text": [
      "(60000, 28, 28)\n",
      "(10000, 28, 28)\n"
     ]
    }
   ],
   "source": [
    "print(X_train.shape)\n",
    "print(X_test.shape)"
   ]
  },
  {
   "cell_type": "code",
   "execution_count": 5,
   "metadata": {},
   "outputs": [
    {
     "data": {
      "image/png": "[encoded data removed]",
      "text/plain": [
       "<Figure size 432x288 with 1 Axes>"
      ]
     },
     "metadata": {
      "needs_background": "light"
     },
     "output_type": "display_data"
    },
    {
     "data": {
      "image/png": "[encoded data removed]",
      "text/plain": [
       "<Figure size 432x288 with 1 Axes>"
      ]
     },
     "metadata": {
      "needs_background": "light"
     },
     "output_type": "display_data"
    },
    {
     "data": {
      "image/png": "[encoded data removed]",
      "text/plain": [
       "<Figure size 432x288 with 1 Axes>"
      ]
     },
     "metadata": {
      "needs_background": "light"
     },
     "output_type": "display_data"
    },
    {
     "data": {
      "image/png": "[encoded data removed]",
      "text/plain": [
       "<Figure size 432x288 with 1 Axes>"
      ]
     },
     "metadata": {
      "needs_background": "light"
     },
     "output_type": "display_data"
    }
   ],
   "source": [
    "%matplotlib inline\n",
    "\n",
    "import matplotlib.image as mpimg\n",
    "import matplotlib.pyplot as plt\n",
    "\n",
    "imgplot = plt.imshow(X_train[0,:,:],cmap=plt.cm.gray)\n",
    "plt.show()\n",
    "imgplot = plt.imshow(X_train[1,:,:],cmap=plt.cm.gray)\n",
    "plt.show()\n",
    "imgplot = plt.imshow(X_train[2,:,:],cmap=plt.cm.gray)\n",
    "plt.show()\n",
    "imgplot = plt.imshow(X_train[4,:,:],cmap=plt.cm.gray)\n",
    "plt.show()"
   ]
  },
  {
   "cell_type": "code",
   "execution_count": 6,
   "metadata": {},
   "outputs": [],
   "source": [
    "# Reshape the image pixels into a row:\n",
    "X_train = X_train.reshape(X_train.shape[0], 784)\n",
    "X_test = X_test.reshape(X_test.shape[0], 784)"
   ]
  },
  {
   "cell_type": "code",
   "execution_count": 7,
   "metadata": {},
   "outputs": [
    {
     "name": "stdout",
     "output_type": "stream",
     "text": [
      "(60000, 784)\n",
      "(10000, 784)\n"
     ]
    }
   ],
   "source": [
    "print(X_train.shape)\n",
    "print(X_test.shape)"
   ]
  },
  {
   "cell_type": "code",
   "execution_count": 8,
   "metadata": {},
   "outputs": [],
   "source": [
    "# print(X_train[0,:])"
   ]
  },
  {
   "cell_type": "code",
   "execution_count": 9,
   "metadata": {},
   "outputs": [],
   "source": [
    "# simply scale the features to the range of [0,1]:\n",
    "X_train = X_train.astype('float32')\n",
    "X_test = X_test.astype('float32')\n",
    "X_train /= 255\n",
    "X_test /= 255"
   ]
  },
  {
   "cell_type": "code",
   "execution_count": 10,
   "metadata": {},
   "outputs": [],
   "source": [
    "# print(X_train[0,:])"
   ]
  },
  {
   "cell_type": "code",
   "execution_count": null,
   "metadata": {},
   "outputs": [],
   "source": []
  },
  {
   "cell_type": "code",
   "execution_count": 11,
   "metadata": {},
   "outputs": [
    {
     "name": "stdout",
     "output_type": "stream",
     "text": [
      "(60000,)\n",
      "[5 0 4 1 9 2 1 3 1 4]\n"
     ]
    }
   ],
   "source": [
    "# output label:\n",
    "print (y_train.shape)\n",
    "print (y_train[:10])"
   ]
  },
  {
   "cell_type": "code",
   "execution_count": 12,
   "metadata": {},
   "outputs": [],
   "source": [
    "# OneHotEncoding for the output label:\n",
    "y_train = np_utils.to_categorical(y_train, 10)\n",
    "y_test = np_utils.to_categorical(y_test, 10)\n"
   ]
  },
  {
   "cell_type": "code",
   "execution_count": 13,
   "metadata": {},
   "outputs": [
    {
     "name": "stdout",
     "output_type": "stream",
     "text": [
      "(60000, 10)\n",
      "[[0. 0. 0. 0. 0. 1. 0. 0. 0. 0.]\n",
      " [1. 0. 0. 0. 0. 0. 0. 0. 0. 0.]\n",
      " [0. 0. 0. 0. 1. 0. 0. 0. 0. 0.]\n",
      " [0. 1. 0. 0. 0. 0. 0. 0. 0. 0.]\n",
      " [0. 0. 0. 0. 0. 0. 0. 0. 0. 1.]\n",
      " [0. 0. 1. 0. 0. 0. 0. 0. 0. 0.]\n",
      " [0. 1. 0. 0. 0. 0. 0. 0. 0. 0.]\n",
      " [0. 0. 0. 1. 0. 0. 0. 0. 0. 0.]\n",
      " [0. 1. 0. 0. 0. 0. 0. 0. 0. 0.]\n",
      " [0. 0. 0. 0. 1. 0. 0. 0. 0. 0.]]\n"
     ]
    }
   ],
   "source": [
    "# Label after OneHotEncoding:\n",
    "print (y_train.shape)\n",
    "print (y_train[:10,:])"
   ]
  },
  {
   "cell_type": "code",
   "execution_count": null,
   "metadata": {},
   "outputs": [],
   "source": []
  },
  {
   "cell_type": "markdown",
   "metadata": {},
   "source": [
    "## Define the Network Architecture (model):"
   ]
  },
  {
   "cell_type": "code",
   "execution_count": 14,
   "metadata": {},
   "outputs": [],
   "source": [
    "# Declare Sequential model to build our network:\n",
    "model = Sequential()"
   ]
  },
  {
   "cell_type": "code",
   "execution_count": 15,
   "metadata": {},
   "outputs": [],
   "source": [
    "input_size = 784\n",
    "hidden_neurons = 100\n",
    "out_size = 10"
   ]
  },
  {
   "cell_type": "code",
   "execution_count": 16,
   "metadata": {},
   "outputs": [],
   "source": [
    "## Designing the NN Structure:\n",
    "\n",
    "# -----------------------------------------\n",
    "# first layer: input layer\n",
    "# Input layer does not do any processing, so no need to define the input layer in this problem.\n",
    "\n",
    "# -----------------------------------------\n",
    "# second layer: hidden layer:\n",
    "model.add(Dense(hidden_neurons, input_dim = input_size))  # Nuerons\n",
    "model.add(Activation('sigmoid')) # Activation\n",
    "\n",
    "# -----------------------------------------\n",
    "# third layer: output layer:\n",
    "model.add(Dense(out_size, input_dim = hidden_neurons))  # Nuerons\n",
    "model.add(Activation('softmax')) # Activation\n"
   ]
  },
  {
   "cell_type": "markdown",
   "metadata": {},
   "source": [
    "## Compile the model:\n",
    "#### We need to compile the model to establish the network and define the methods. Then it will be ready to train it:"
   ]
  },
  {
   "cell_type": "code",
   "execution_count": 17,
   "metadata": {},
   "outputs": [],
   "source": [
    "model.compile(loss='categorical_crossentropy',\n",
    "              metrics=['accuracy'],\n",
    "              optimizer='adam')\n"
   ]
  },
  {
   "cell_type": "markdown",
   "metadata": {},
   "source": [
    "## Training:"
   ]
  },
  {
   "cell_type": "code",
   "execution_count": 20,
   "metadata": {
    "scrolled": false
   },
   "outputs": [
    {
     "name": "stdout",
     "output_type": "stream",
     "text": [
      "Train on 40199 samples, validate on 19801 samples\n",
      "Epoch 1/15\n",
      "40199/40199 [==============================] - 6s 152us/step - loss: 0.4934 - accuracy: 0.8776 - val_loss: 0.2843 - val_accuracy: 0.9183\n",
      "Epoch 2/15\n",
      "40199/40199 [==============================] - 6s 140us/step - loss: 0.2397 - accuracy: 0.9319 - val_loss: 0.2211 - val_accuracy: 0.9363\n",
      "Epoch 3/15\n",
      "40199/40199 [==============================] - 6s 144us/step - loss: 0.1832 - accuracy: 0.9470 - val_loss: 0.1879 - val_accuracy: 0.9460\n",
      "Epoch 4/15\n",
      "40199/40199 [==============================] - 5s 135us/step - loss: 0.1479 - accuracy: 0.9578 - val_loss: 0.1637 - val_accuracy: 0.9530\n",
      "Epoch 5/15\n",
      "40199/40199 [==============================] - 5s 135us/step - loss: 0.1224 - accuracy: 0.9643 - val_loss: 0.1429 - val_accuracy: 0.9582\n",
      "Epoch 6/15\n",
      "40199/40199 [==============================] - 5s 135us/step - loss: 0.1035 - accuracy: 0.9704 - val_loss: 0.1321 - val_accuracy: 0.9614\n",
      "Epoch 7/15\n",
      "40199/40199 [==============================] - 5s 135us/step - loss: 0.0881 - accuracy: 0.9754 - val_loss: 0.1257 - val_accuracy: 0.9630\n",
      "Epoch 8/15\n",
      "40199/40199 [==============================] - 5s 135us/step - loss: 0.0762 - accuracy: 0.9791 - val_loss: 0.1176 - val_accuracy: 0.9655\n",
      "Epoch 9/15\n",
      "40199/40199 [==============================] - 5s 134us/step - loss: 0.0655 - accuracy: 0.9825 - val_loss: 0.1163 - val_accuracy: 0.9660\n",
      "Epoch 10/15\n",
      "40199/40199 [==============================] - 5s 134us/step - loss: 0.0566 - accuracy: 0.9851 - val_loss: 0.1113 - val_accuracy: 0.9675\n",
      "Epoch 11/15\n",
      "40199/40199 [==============================] - 5s 135us/step - loss: 0.0496 - accuracy: 0.9868 - val_loss: 0.1063 - val_accuracy: 0.9693\n",
      "Epoch 12/15\n",
      "40199/40199 [==============================] - 5s 135us/step - loss: 0.0427 - accuracy: 0.9898 - val_loss: 0.1046 - val_accuracy: 0.9700\n",
      "Epoch 13/15\n",
      "40199/40199 [==============================] - 6s 153us/step - loss: 0.0370 - accuracy: 0.9915 - val_loss: 0.1068 - val_accuracy: 0.9681\n",
      "Epoch 14/15\n",
      "40199/40199 [==============================] - 5s 136us/step - loss: 0.0321 - accuracy: 0.9931 - val_loss: 0.1019 - val_accuracy: 0.9708\n",
      "Epoch 15/15\n",
      "40199/40199 [==============================] - 5s 134us/step - loss: 0.0275 - accuracy: 0.9947 - val_loss: 0.1006 - val_accuracy: 0.9716\n"
     ]
    }
   ],
   "source": [
    "#fitted_model = model.fit(X_train, y_train, batch_size=32, epochs=15, verbose=1)\n",
    "fitted_model = model.fit(X_train, y_train, validation_split=0.33, batch_size=32, epochs=15, verbose=1)\n",
    "\n",
    "\n",
    "# batch_size: Integer or None. Number of samples per gradient update. \n",
    "# epochs: Number of iterations over the entire x and y training data. \n",
    "# verbose: 0, 1, or 2. how to see the training progress. 0 = silent, 1 = progress bar, 2 = one line per epoch.\n",
    "# validation_split: Float between 0 and 1. Fraction of the training data to be used as validation data. \n",
    "# You can add some callbacks to get a view on internal states and statistics of the model during training:\n",
    "# https://keras.io/callbacks/     "
   ]
  },
  {
   "cell_type": "code",
   "execution_count": 68,
   "metadata": {},
   "outputs": [],
   "source": [
    "# Training with Validation:\n",
    "# from keras.callbacks import EarlyStopping\n",
    "# early_stopping = EarlyStopping(monitor='val_loss',  min_delta=0.1, patience=3)\n",
    "# fitted_model = model.fit(X_train, y_train, validation_split=0.25, callbacks=[early_stopping], batch_size=32, epochs=10, verbose=1)"
   ]
  },
  {
   "cell_type": "code",
   "execution_count": 69,
   "metadata": {},
   "outputs": [
    {
     "data": {
      "image/png": "[encoded data removed]",
      "text/plain": [
       "<matplotlib.figure.Figure at 0x13353aa90>"
      ]
     },
     "metadata": {},
     "output_type": "display_data"
    },
    {
     "data": {
      "image/png": "[encoded data removed]",
      "text/plain": [
       "<matplotlib.figure.Figure at 0x1336384a8>"
      ]
     },
     "metadata": {},
     "output_type": "display_data"
    }
   ],
   "source": [
    "import matplotlib.pyplot as plt\n",
    "\n",
    "# summarize history for accuracy\n",
    "plt.plot(fitted_model.history['acc'])\n",
    "plt.plot(fitted_model.history['val_acc'])\n",
    "plt.title('model accuracy')\n",
    "plt.ylabel('accuracy')\n",
    "plt.xlabel('epoch')\n",
    "plt.legend(['train', 'val'], loc='upper left')\n",
    "plt.show()\n",
    "\n",
    "# summarize history for loss\n",
    "plt.plot(fitted_model.history['loss'])\n",
    "plt.plot(fitted_model.history['val_loss'])\n",
    "plt.title('model loss')\n",
    "plt.ylabel('loss')\n",
    "plt.xlabel('epoch')\n",
    "plt.legend(['train', 'val'], loc='upper left')\n",
    "plt.show()\n",
    "\n",
    "# print(fitted_model.history)\n"
   ]
  },
  {
   "cell_type": "markdown",
   "metadata": {},
   "source": [
    "## Testing, Prediction, Evaluation:"
   ]
  },
  {
   "cell_type": "code",
   "execution_count": 70,
   "metadata": {},
   "outputs": [
    {
     "name": "stdout",
     "output_type": "stream",
     "text": [
      "10000/10000 [==============================] - 0s 20us/step\b\b\b\b\b\b\b\b\b\b\b\b\b\b\b\b\b\b\b\b\b\b\b\b\b\b\b\b\b\b\b\b\b\b\b\b\b\b\b\b\b\b\b\b\b\b\b\b\b\b\b\b\b\b\b\b\b\b\b\b\b\b\b\b\b\b\b\b\b\b\b\b\b\b\b\b\b\b\b\b\b\b\b\b\b\b\b\b\b\b\b\b\b\b\b\b\b\b\b\b\b\b\b\b\b\b\b\b\b\b\b\b\b\b\b\b\b\b\b\b\b\b\b\b\b\b\b\b\b\b\b\b\b\b\b\b\b\b\b\b\b\b\b\b\b\b\b\b\b\b\b\b\b\b\b\b\b\b\b\b\b\b\b\b\b\b\b\b\b\b\b\b\b\b\b\b\b\b\b\b\b\b\b\b\b\b\b\b\b\b\b\b\b\b\b\b\b\b\b\b\b\b\b\b\b\b\b\b\b\b\b\n",
      "(10000, 10)\n"
     ]
    }
   ],
   "source": [
    "# Prediction:\n",
    "y_pridict = model.predict(X_test, verbose=1)\n",
    "print (y_pridict.shape)"
   ]
  },
  {
   "cell_type": "code",
   "execution_count": 71,
   "metadata": {},
   "outputs": [
    {
     "name": "stdout",
     "output_type": "stream",
     "text": [
      "10000/10000 [==============================] - 0s 22us/step\b\b\b\b\b\b\b\b\b\b\b\b\b\b\b\b\b\b\b\b\b\b\b\b\b\b\b\b\b\b\b\b\b\b\b\b\b\b\b\b\b\b\b\b\b\b\b\b\b\b\b\b\b\b\b\b\b\b\b\b\b\b\b\b\b\b\b\b\b\b\b\b\b\b\b\b\b\b\b\b\b\b\b\b\b\b\b\b\b\b\b\b\b\b\b\b\b\b\b\b\b\b\b\b\b\b\b\b\b\b\b\b\b\b\b\b\b\b\b\b\b\b\b\b\b\b\b\b\b\b\b\b\b\b\b\b\b\b\b\b\b\b\b\b\b\b\b\b\b\b\b\b\b\b\b\b\b\b\b\b\b\b\b\b\b\b\b\b\b\b\b\b\b\b\b\b\b\b\b\b\b\b\b\b\b\b\b\b\b\b\b\b\b\b\b\b\b\b\b\b\b\b\b\b\b\b\b\b\b\b\b\b\b\b\b\b\b\b\b\b\b\b\b\b\b\b\b\b\b\b\b\b\b\b\b\b\b\b\b\b\b\b\b\b\b\b\b\b\b\b\b\b\b\b\b\b\b\b\b\b\b\b\b\b\b\n",
      "The accuracy is:  0.975\n"
     ]
    }
   ],
   "source": [
    "# Evaluation:\n",
    "score = model.evaluate(X_test, y_test, verbose=1)\n",
    "print('The accuracy is: ', score[1])"
   ]
  },
  {
   "cell_type": "code",
   "execution_count": null,
   "metadata": {
    "collapsed": true
   },
   "outputs": [],
   "source": []
  }
 ],
 "metadata": {
  "kernelspec": {
   "display_name": "Python 3",
   "language": "python",
   "name": "python3"
  },
  "language_info": {
   "codemirror_mode": {
    "name": "ipython",
    "version": 3
   },
   "file_extension": ".py",
   "mimetype": "text/x-python",
   "name": "python",
   "nbconvert_exporter": "python",
   "pygments_lexer": "ipython3",
   "version": "3.7.6"
  }
 },
 "nbformat": 4,
 "nbformat_minor": 2
}
